{
 "cells": [
  {
   "cell_type": "markdown",
   "metadata": {},
   "source": [
    "## Assignment 4\n"
   ]
  },
  {
   "cell_type": "markdown",
   "metadata": {},
   "source": [
    "### Task1: Calculator \n"
   ]
  },
  {
   "cell_type": "code",
   "execution_count": 3,
   "metadata": {},
   "outputs": [
    {
     "name": "stdout",
     "output_type": "stream",
     "text": [
      "Enter the first number : 5\n",
      "Enter the first number : 6\n",
      "Enter any expression +, -, /, *,** :/\n",
      "Division of   5 and 6 = 0.8333333333333334\n"
     ]
    }
   ],
   "source": [
    "num1=int(input(\"Enter the first number : \" ) )\n",
    "num2=int(input(\"Enter the first number : \"))\n",
    "x=input(\"Enter any expression +, -, /, *,** :\")\n",
    "if x == '+':\n",
    "    c= num1 + num2\n",
    "    print(\"Addition of \",num1, 'and', num2 ,\"=\",c)\n",
    "elif x == '-': \n",
    "    c= num1 - num2\n",
    "    print(\"subtraction of \",num1, 'and', num2 ,\"=\",c)\n",
    "elif x == '/': \n",
    "    c= num1 / num2\n",
    "    print(\"Division of  \",num1, 'and', num2 ,\"=\",c) \n",
    "elif x == '*': \n",
    "    c= num1 * num2\n",
    "    print(\"Multiplication of \",num1, 'and', num2 ,\"=\",c) \n",
    "elif x == '**': \n",
    "    c= num1 ** num2\n",
    "    print(\"Power of \",num1, 'and', num2 ,\"=\",c)\n",
    "else:\n",
    "    print(\"Invalid Expression\")\n",
    "             "
   ]
  },
  {
   "cell_type": "markdown",
   "metadata": {},
   "source": [
    "## Task 2: check numeric value in list using loop."
   ]
  },
  {
   "cell_type": "code",
   "execution_count": 11,
   "metadata": {},
   "outputs": [
    {
     "name": "stdout",
     "output_type": "stream",
     "text": [
      "1\n",
      "6\n",
      "5\n",
      "11\n"
     ]
    }
   ],
   "source": [
    "lst=[1,'b',6,5,11,'c']\n",
    "for i in lst:\n",
    "    if type(i)==int:\n",
    "        print(i)"
   ]
  },
  {
   "cell_type": "markdown",
   "metadata": {},
   "source": [
    "## Task 3: Add a key to dictionary. "
   ]
  },
  {
   "cell_type": "code",
   "execution_count": 12,
   "metadata": {},
   "outputs": [
    {
     "data": {
      "text/plain": [
       "{'white': 1, 'red': 5, 'black': 0, 'pink': 6, 'green': 8}"
      ]
     },
     "execution_count": 12,
     "metadata": {},
     "output_type": "execute_result"
    }
   ],
   "source": [
    "colors={\"white\":1,\"red\":5,\"black\":0,\"pink\":6}\n",
    "colors[\"green\"]=8\n",
    "colors"
   ]
  },
  {
   "cell_type": "markdown",
   "metadata": {},
   "source": [
    "## Task 4: Sum all numeric values in Dictionary."
   ]
  },
  {
   "cell_type": "code",
   "execution_count": 54,
   "metadata": {},
   "outputs": [
    {
     "name": "stdout",
     "output_type": "stream",
     "text": [
      "12\n"
     ]
    }
   ],
   "source": [
    "colors={\"white\":1,\"red\":5,\"black\":0,\"pink\":6,\"green\":'a'}\n",
    "for i in colors.values():\n",
    "    if type(colors.values())==int:\n",
    "        total=sum(colors.values())\n",
    "print(total)"
   ]
  },
  {
   "cell_type": "markdown",
   "metadata": {},
   "source": [
    "## Task 5: identify duplicate values from list."
   ]
  },
  {
   "cell_type": "code",
   "execution_count": 79,
   "metadata": {},
   "outputs": [
    {
     "name": "stdout",
     "output_type": "stream",
     "text": [
      "['h', 6, 8]\n"
     ]
    }
   ],
   "source": [
    "lst=['b','h',6,8,'i',8,'h',6]\n",
    "s=[]\n",
    "count=0\n",
    "for i in range(len(lst)):\n",
    "    for j  in range(len(lst)):\n",
    "        if (lst[i]==lst[j]):\n",
    "            count=count+1\n",
    "    if(count>1):\n",
    "        if(lst[i] not in s):\n",
    "            s.append(lst[i])\n",
    "    count=0\n",
    "print(s)\n"
   ]
  },
  {
   "cell_type": "markdown",
   "metadata": {},
   "source": [
    "## Task 6:program to Check if a given key already exits in a dictionary."
   ]
  },
  {
   "cell_type": "code",
   "execution_count": 72,
   "metadata": {},
   "outputs": [
    {
     "name": "stdout",
     "output_type": "stream",
     "text": [
      "Enter key to check:A\n",
      "Key is present and value of the key is:\n",
      "8\n"
     ]
    }
   ],
   "source": [
    "d={'A':8,'B':9,'C':3}\n",
    "key=input(\"Enter key to check:\")\n",
    "if key in d.keys():\n",
    "      print(\"Key is present and value of the key is:\")\n",
    "      print(d[key])\n",
    "else:\n",
    "      print(\"Key isn't present!\")"
   ]
  },
  {
   "cell_type": "code",
   "execution_count": null,
   "metadata": {},
   "outputs": [],
   "source": []
  }
 ],
 "metadata": {
  "kernelspec": {
   "display_name": "Python 3",
   "language": "python",
   "name": "python3"
  },
  "language_info": {
   "codemirror_mode": {
    "name": "ipython",
    "version": 3
   },
   "file_extension": ".py",
   "mimetype": "text/x-python",
   "name": "python",
   "nbconvert_exporter": "python",
   "pygments_lexer": "ipython3",
   "version": "3.8.5"
  }
 },
 "nbformat": 4,
 "nbformat_minor": 4
}
